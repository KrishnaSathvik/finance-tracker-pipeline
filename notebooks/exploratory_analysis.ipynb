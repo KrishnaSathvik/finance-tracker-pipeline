import pandas as pd
import matplotlib.pyplot as plt
import seaborn as sns

df = pd.read_csv('../output/monthly_summary.csv')
sns.barplot(x='Month', y='Savings', data=df)
plt.xticks(rotation=45)
plt.title('Monthly Savings Overview')
plt.show()
